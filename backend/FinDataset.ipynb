{
  "nbformat": 4,
  "nbformat_minor": 0,
  "metadata": {
    "colab": {
      "provenance": []
    },
    "kernelspec": {
      "name": "python3",
      "display_name": "Python 3"
    },
    "language_info": {
      "name": "python"
    }
  },
  "cells": [
    {
      "cell_type": "code",
      "source": [
        "import pandas as pd\n",
        "import numpy as np\n",
        "\n",
        "num_rows = 100\n",
        "\n",
        "total_reserves = np.random.randint(50000, 200000, size=num_rows)\n",
        "allocated_funds = np.random.randint(20000, total_reserves // 1.2, size=num_rows)  # Ensures allocated funds <= total reserves\n",
        "financial_summary = pd.DataFrame({\n",
        "    'Month': pd.date_range(start='2023-01-01', periods=num_rows, freq='M').strftime('%Y-%m'),\n",
        "    'Total Reserves': total_reserves,\n",
        "    'Allocated Funds': allocated_funds,\n",
        "})\n",
        "financial_summary['Unallocated Funds'] = financial_summary['Total Reserves'] - financial_summary['Allocated Funds']\n",
        "financial_summary['Monthly Change (%)'] = np.round(np.random.uniform(-10, 10, num_rows), 2)\n",
        "\n",
        "\n",
        "categories = ['Operations', 'Marketing', 'IT', 'Emergency', 'Investments']\n",
        "reserve_categories = pd.DataFrame({\n",
        "    'Category': np.random.choice(categories, num_rows),\n",
        "    'Current Allocation': np.random.randint(5000, 50000, size=num_rows),\n",
        "    'Utilization Rate (%)': np.round(np.random.uniform(10, 90, num_rows), 2)\n",
        "})\n",
        "\n",
        "projection_data = pd.DataFrame({\n",
        "    'Month': pd.date_range(start='2023-01-01', periods=num_rows, freq='M').strftime('%Y-%m'),\n",
        "    'Projected Reserves': np.random.randint(50000, 200000, size=num_rows),\n",
        "    'Growth Rate (%)': np.round(np.random.uniform(-5, 10, num_rows), 2)\n",
        "})\n",
        "\n",
        "expense_management = pd.DataFrame({\n",
        "    'Date': pd.to_datetime(np.random.choice(pd.date_range('2023-01-01', '2023-12-31'), num_rows)),\n",
        "    'Category': np.random.choice(categories, num_rows),\n",
        "    'Amount': np.random.randint(100, 10000, size=num_rows),\n",
        "    'Description': np.random.choice(['Office Rent', 'Marketing Campaign', 'Software Upgrade', 'Emergency Fund', 'Investment'], num_rows)\n",
        "})\n",
        "\n",
        "allocation_editor = pd.DataFrame({\n",
        "    'Category': categories,\n",
        "    'Initial Allocation': np.random.randint(10000, 50000, size=len(categories)),\n",
        "    'Adjusted Allocation': np.random.randint(10000, 50000, size=len(categories))\n",
        "})\n",
        "allocation_editor['Difference'] = allocation_editor['Adjusted Allocation'] - allocation_editor['Initial Allocation']\n",
        "\n",
        "file_path = 'nj_data.xlsx'\n",
        "with pd.ExcelWriter(file_path, engine='openpyxl') as writer:\n",
        "    financial_summary.to_excel(writer, sheet_name='Financial Summary', index=False)\n",
        "    reserve_categories.to_excel(writer, sheet_name='Reserve Categories', index=False)\n",
        "    projection_data.to_excel(writer, sheet_name='Projection Data', index=False)\n",
        "    expense_management.to_excel(writer, sheet_name='Expense Management', index=False)\n",
        "    allocation_editor.to_excel(writer, sheet_name='Allocation Editor', index=False)\n",
        "\n",
        "print(f\"Excel file '{file_path}' with multiple sheets created successfully!\")\n"
      ],
      "metadata": {
        "colab": {
          "base_uri": "https://localhost:8080/"
        },
        "id": "Ab-azg8ONwLJ",
        "outputId": "18a543d7-ac85-4748-e44e-d45b8fa5a60a"
      },
      "execution_count": 14,
      "outputs": [
        {
          "output_type": "stream",
          "name": "stderr",
          "text": [
            "<ipython-input-14-a23788c25b36>:10: FutureWarning: 'M' is deprecated and will be removed in a future version, please use 'ME' instead.\n",
            "  'Month': pd.date_range(start='2023-01-01', periods=num_rows, freq='M').strftime('%Y-%m'),\n",
            "<ipython-input-14-a23788c25b36>:27: FutureWarning: 'M' is deprecated and will be removed in a future version, please use 'ME' instead.\n",
            "  'Month': pd.date_range(start='2023-01-01', periods=num_rows, freq='M').strftime('%Y-%m'),\n"
          ]
        },
        {
          "output_type": "stream",
          "name": "stdout",
          "text": [
            "Excel file 'nj_data.xlsx' with multiple sheets created successfully!\n"
          ]
        }
      ]
    },
    {
      "cell_type": "code",
      "source": [
        "!pip install matplotlib-venn"
      ],
      "metadata": {
        "colab": {
          "base_uri": "https://localhost:8080/"
        },
        "id": "Zl1l442JLVcP",
        "outputId": "ae7e5886-9c94-43d9-86c3-2e0a91e64db3"
      },
      "execution_count": 3,
      "outputs": [
        {
          "output_type": "stream",
          "name": "stdout",
          "text": [
            "Requirement already satisfied: matplotlib-venn in /usr/local/lib/python3.11/dist-packages (1.1.1)\n",
            "Requirement already satisfied: matplotlib in /usr/local/lib/python3.11/dist-packages (from matplotlib-venn) (3.10.0)\n",
            "Requirement already satisfied: numpy in /usr/local/lib/python3.11/dist-packages (from matplotlib-venn) (1.26.4)\n",
            "Requirement already satisfied: scipy in /usr/local/lib/python3.11/dist-packages (from matplotlib-venn) (1.13.1)\n",
            "Requirement already satisfied: contourpy>=1.0.1 in /usr/local/lib/python3.11/dist-packages (from matplotlib->matplotlib-venn) (1.3.1)\n",
            "Requirement already satisfied: cycler>=0.10 in /usr/local/lib/python3.11/dist-packages (from matplotlib->matplotlib-venn) (0.12.1)\n",
            "Requirement already satisfied: fonttools>=4.22.0 in /usr/local/lib/python3.11/dist-packages (from matplotlib->matplotlib-venn) (4.55.7)\n",
            "Requirement already satisfied: kiwisolver>=1.3.1 in /usr/local/lib/python3.11/dist-packages (from matplotlib->matplotlib-venn) (1.4.8)\n",
            "Requirement already satisfied: packaging>=20.0 in /usr/local/lib/python3.11/dist-packages (from matplotlib->matplotlib-venn) (24.2)\n",
            "Requirement already satisfied: pillow>=8 in /usr/local/lib/python3.11/dist-packages (from matplotlib->matplotlib-venn) (11.1.0)\n",
            "Requirement already satisfied: pyparsing>=2.3.1 in /usr/local/lib/python3.11/dist-packages (from matplotlib->matplotlib-venn) (3.2.1)\n",
            "Requirement already satisfied: python-dateutil>=2.7 in /usr/local/lib/python3.11/dist-packages (from matplotlib->matplotlib-venn) (2.8.2)\n",
            "Requirement already satisfied: six>=1.5 in /usr/local/lib/python3.11/dist-packages (from python-dateutil>=2.7->matplotlib->matplotlib-venn) (1.17.0)\n"
          ]
        }
      ]
    },
    {
      "cell_type": "code",
      "source": [
        "!apt-get -qq install -y libfluidsynth1"
      ],
      "metadata": {
        "colab": {
          "base_uri": "https://localhost:8080/"
        },
        "id": "UlSOXG2rLYZZ",
        "outputId": "9b66271d-cf6d-442a-ddd6-d23e53bd9744"
      },
      "execution_count": 4,
      "outputs": [
        {
          "output_type": "stream",
          "name": "stdout",
          "text": [
            "E: Package 'libfluidsynth1' has no installation candidate\n"
          ]
        }
      ]
    },
    {
      "cell_type": "code",
      "source": [
        "!apt-get -qq install -y libarchive-dev && pip install -U libarchive\n",
        "import libarchive"
      ],
      "metadata": {
        "colab": {
          "base_uri": "https://localhost:8080/"
        },
        "id": "IaPfWhkVLcEi",
        "outputId": "86512b07-bbcd-4dfa-ae69-b5273d7917c4"
      },
      "execution_count": 5,
      "outputs": [
        {
          "output_type": "stream",
          "name": "stdout",
          "text": [
            "Selecting previously unselected package libarchive-dev:amd64.\n",
            "(Reading database ... 124950 files and directories currently installed.)\n",
            "Preparing to unpack .../libarchive-dev_3.6.0-1ubuntu1.3_amd64.deb ...\n",
            "Unpacking libarchive-dev:amd64 (3.6.0-1ubuntu1.3) ...\n",
            "Setting up libarchive-dev:amd64 (3.6.0-1ubuntu1.3) ...\n",
            "Processing triggers for man-db (2.10.2-1) ...\n",
            "Collecting libarchive\n",
            "  Downloading libarchive-0.4.7.tar.gz (23 kB)\n",
            "  Preparing metadata (setup.py) ... \u001b[?25l\u001b[?25hdone\n",
            "Collecting nose (from libarchive)\n",
            "  Downloading nose-1.3.7-py3-none-any.whl.metadata (1.7 kB)\n",
            "Downloading nose-1.3.7-py3-none-any.whl (154 kB)\n",
            "\u001b[2K   \u001b[90m━━━━━━━━━━━━━━━━━━━━━━━━━━━━━━━━━━━━━━━━\u001b[0m \u001b[32m154.7/154.7 kB\u001b[0m \u001b[31m9.0 MB/s\u001b[0m eta \u001b[36m0:00:00\u001b[0m\n",
            "\u001b[?25hBuilding wheels for collected packages: libarchive\n",
            "  Building wheel for libarchive (setup.py) ... \u001b[?25l\u001b[?25hdone\n",
            "  Created wheel for libarchive: filename=libarchive-0.4.7-py3-none-any.whl size=31631 sha256=ae6718ab6cfc90e7e03f4e102b2f60e38d389145f41b888475063c983a1f7b22\n",
            "  Stored in directory: /root/.cache/pip/wheels/32/98/bd/4893d6923dd027f455b250367d402bfd69a6f4416581df46db\n",
            "Successfully built libarchive\n",
            "Installing collected packages: nose, libarchive\n",
            "Successfully installed libarchive-0.4.7 nose-1.3.7\n"
          ]
        }
      ]
    },
    {
      "cell_type": "code",
      "source": [
        "!apt-get -qq install -y graphviz && pip install pydot\n",
        "import pydot"
      ],
      "metadata": {
        "colab": {
          "base_uri": "https://localhost:8080/"
        },
        "id": "honPxtwZLfdw",
        "outputId": "91b35abe-55d1-4fa3-bfd8-4386959d971f"
      },
      "execution_count": 6,
      "outputs": [
        {
          "output_type": "stream",
          "name": "stdout",
          "text": [
            "Requirement already satisfied: pydot in /usr/local/lib/python3.11/dist-packages (3.0.4)\n",
            "Requirement already satisfied: pyparsing>=3.0.9 in /usr/local/lib/python3.11/dist-packages (from pydot) (3.2.1)\n"
          ]
        }
      ]
    },
    {
      "cell_type": "code",
      "source": [
        "pip install xlsxwriter\n"
      ],
      "metadata": {
        "colab": {
          "base_uri": "https://localhost:8080/"
        },
        "id": "GhyNivSBLiFy",
        "outputId": "880717c9-f8f4-40c7-a185-f606a2299cf2"
      },
      "execution_count": 9,
      "outputs": [
        {
          "output_type": "stream",
          "name": "stdout",
          "text": [
            "Collecting xlsxwriter\n",
            "  Downloading XlsxWriter-3.2.2-py3-none-any.whl.metadata (2.8 kB)\n",
            "Downloading XlsxWriter-3.2.2-py3-none-any.whl (165 kB)\n",
            "\u001b[?25l   \u001b[90m━━━━━━━━━━━━━━━━━━━━━━━━━━━━━━━━━━━━━━━━\u001b[0m \u001b[32m0.0/165.1 kB\u001b[0m \u001b[31m?\u001b[0m eta \u001b[36m-:--:--\u001b[0m\r\u001b[2K   \u001b[91m━━━━━━━━━━━━━━━━━━━━━━━━━━━━━━━━━━━━━━━\u001b[0m\u001b[91m╸\u001b[0m \u001b[32m163.8/165.1 kB\u001b[0m \u001b[31m6.2 MB/s\u001b[0m eta \u001b[36m0:00:01\u001b[0m\r\u001b[2K   \u001b[90m━━━━━━━━━━━━━━━━━━━━━━━━━━━━━━━━━━━━━━━━\u001b[0m \u001b[32m165.1/165.1 kB\u001b[0m \u001b[31m4.3 MB/s\u001b[0m eta \u001b[36m0:00:00\u001b[0m\n",
            "\u001b[?25hInstalling collected packages: xlsxwriter\n",
            "Successfully installed xlsxwriter-3.2.2\n"
          ]
        }
      ]
    }
  ]
}